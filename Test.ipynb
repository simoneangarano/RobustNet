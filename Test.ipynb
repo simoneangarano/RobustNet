{
 "cells": [
  {
   "cell_type": "markdown",
   "metadata": {},
   "source": [
    "# Dataset Split"
   ]
  },
  {
   "cell_type": "code",
   "execution_count": 4,
   "metadata": {},
   "outputs": [],
   "source": [
    "import shutil\n",
    "\n",
    "DATASET = 'gtav' # 'synthia' or 'gtav'\n",
    "I_ROOT = '/home/simone/Datasets/Synthia/RGB' if DATASET == 'synthia' else '/home/simone/Datasets/GTAV/images' \n",
    "L_ROOT = '/home/simone/Datasets/Synthia/GT/LABELS' if DATASET == 'synthia' else '/home/simone/Datasets/GTAV/labels'\n",
    "Z = 7 if DATASET == 'synthia' else 5"
   ]
  },
  {
   "cell_type": "code",
   "execution_count": 5,
   "metadata": {},
   "outputs": [
    {
     "name": "stdout",
     "output_type": "stream",
     "text": [
      "3027\n",
      "905\n"
     ]
    }
   ],
   "source": [
    "with open('train.txt', 'r') as f:\n",
    "    lines = f.readlines()\n",
    "train_ids = [line.strip() for line in lines]\n",
    "print(len(train_ids))\n",
    "\n",
    "with open('val.txt', 'r') as f:\n",
    "    lines = f.readlines()\n",
    "val_ids = [line.strip() for line in lines]\n",
    "print(len(val_ids))"
   ]
  },
  {
   "cell_type": "code",
   "execution_count": 6,
   "metadata": {},
   "outputs": [],
   "source": [
    "for id in train_ids:\n",
    "    shutil.copy(f\"{I_ROOT}/{id.zfill(Z)}.png\", f\"{I_ROOT}/train/{id.zfill(Z)}.png\")\n",
    "    shutil.copy(f\"{L_ROOT}/{id.zfill(Z)}.png\", f\"{L_ROOT}/train/{id.zfill(Z)}.png\")\n",
    "\n",
    "for id in val_ids:\n",
    "    shutil.copy(f\"{I_ROOT}/{id.zfill(Z)}.png\", f\"{I_ROOT}/val/{id.zfill(Z)}.png\")\n",
    "    shutil.copy(f\"{L_ROOT}/{id.zfill(Z)}.png\", f\"{L_ROOT}/val/{id.zfill(Z)}.png\")"
   ]
  },
  {
   "cell_type": "markdown",
   "metadata": {},
   "source": [
    "## DomainMix, CopyPaste, and CutMix"
   ]
  },
  {
   "cell_type": "markdown",
   "metadata": {},
   "source": []
  }
 ],
 "metadata": {
  "kernelspec": {
   "display_name": "kd",
   "language": "python",
   "name": "python3"
  },
  "language_info": {
   "codemirror_mode": {
    "name": "ipython",
    "version": 3
   },
   "file_extension": ".py",
   "mimetype": "text/x-python",
   "name": "python",
   "nbconvert_exporter": "python",
   "pygments_lexer": "ipython3",
   "version": "3.8.10"
  }
 },
 "nbformat": 4,
 "nbformat_minor": 2
}
